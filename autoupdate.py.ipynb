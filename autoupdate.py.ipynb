
  "source": [
    "# Convert transactions to a list of dictionaries\n",
    "transactions = transactions_df.to_dict(orient='records')\n",
    "\n",
    "# Create a blockchain\n",
    "shop_blockchain = Blockchain()\n",
    "\n",
    "# Add transactions to the blockchain\n",
    "for transaction in transactions:\n",
    "    shop_blockchain.create_block(transaction)\n",
    "\n",
    "# Display the blockchain with transaction details\n",
    "shop_blockchain.display_blockchain()"
   ]
  },
  {
   "cell_type": "code",
   "execution_count": null,
   "id": "b18ce940",
   "metadata": {},
   "outputs": [],
   "source": []
  },
  {
   "cell_type": "code",
   "execution_count": null,
   "id": "247551c4",
   "metadata": {},
   "outputs": [],
   "source": []
  },
  {
   "cell_type": "code",
   "execution_count": null,
   "id": "82fada37",
   "metadata": {},
   "outputs": [],
   "source": []
  },
  {
   "cell_type": "code",
   "execution_count": 5,
   "id": "16fadd05",
   "metadata": {},
   "outputs": [
    {
     "name": "stdout",
     "output_type": "stream",
     "text": [
      "Updating Excel with transactions: ['Alice pays Bob $50', 'Bob pays Charlie $30']\n",
      "Updating Excel with transactions: ['Alice pays David $20', 'Charlie pays Alice $10']\n",
      "Block 0 - Hash: e85d98046919168c8e24e05eb3e1ee2f5675d8483b81dfa69649818561ee39a3\n",
      "Block 1 - Hash: 81c5da08c4f7efbd728f728dce84e59751cccfbae527267b783f5e859d0c5f1e\n",
      "Block 2 - Hash: 48ea64243c81600c05ae087d53e974aea293301e5b97801e7cdb7f295c2a859a\n"
     ]
    }
   ],
   "source": [
    "import hashlib\n",
    "import json\n",
    "import time\n",
    "import pandas as pd\n",
    "\n",
    "class Block:\n",
    "    def __init__(self, index, previous_hash, transactions, timestamp=None):\n",
    "        self.index = index\n",
    "        self.previous_hash = previous_hash\n",
    "        self.transactions = transactions\n",
    "        self.timestamp = timestamp or time.time()\n",
    "        self.hash = self.calculate_hash()\n",
    "\n",
    "    def calculate_hash(self):\n",
    "        block_string = json.dumps({\n",
    "            \"index\": self.index,\n",
    "            \"previous_hash\": self.previous_hash,\n",
    "            \"transactions\": self.transactions,\n",
    "            \"timestamp\": self.timestamp\n",
    "        }, sort_keys=True).encode()\n",
    "        return hashlib.sha256(block_string).hexdigest()\n",
    "\n",
    "class Blockchain:\n",
    "    def __init__(self):\n",
    "        self.chain = []\n",
    "        self.create_genesis_block()\n",
    "\n",
    "    def create_genesis_block(self):\n",
    "        # Create the genesis block\n",
    "        genesis_block = Block(0, \"0\", [], time.time())\n",
    "        self.chain.append(genesis_block)\n",
    "\n",
    "    def add_block(self, transactions):\n",
    "        previous_block = self.chain[-1]\n",
    "        new_block = Block(len(self.chain), previous_block.hash, transactions)\n",
    "        self.chain.append(new_block)\n",
    "\n",
    "def update_excel(transactions):\n",
    "    # Update the Excel file with transactions\n",
    "    # For simplicity, let's just print the transactions here\n",
    "    print(\"Updating Excel with transactions:\", transactions)\n",
    "\n",
    "# Example usage\n",
    "if __name__ == \"__main__\":\n",
    "    # Initialize the blockchain\n",
    "    blockchain = Blockchain()\n",
    "\n",
    "    # Simulate some transactions\n",
    "    transactions1 = [\"Alice pays Bob $50\", \"Bob pays Charlie $30\"]\n",
    "    blockchain.add_block(transactions1)\n",
    "    update_excel(transactions1)\n",
    "\n",
    "    transactions2 = [\"Alice pays David $20\", \"Charlie pays Alice $10\"]\n",
    "    blockchain.add_block(transactions2)\n",
    "    update_excel(transactions2)\n",
    "\n",
    "    # Print the blockchain\n",
    "    for block in blockchain.chain:\n",
    "        print(f\"Block {block.index} - Hash: {block.hash}\")\n"
   ]
  },
  {
   "cell_type": "code",
   "execution_count": null,
   "id": "3bb55549",
   "metadata": {},
   "outputs": [],
   "source": []
  }
 ],
 "metadata": {
  "kernelspec": {
   "display_name": "Python 3 (ipykernel)",
   "language": "python",
   "name": "python3"
  },
  "language_info": {
   "codemirror_mode": {
    "name": "ipython",
    "version": 3
   },
   "file_extension": ".py",
   "mimetype": "text/x-python",
   "name": "python",
   "nbconvert_exporter": "python",
   "pygments_lexer": "ipython3",
   "version": "3.11.3"
  }
 },
 "nbformat": 4,
 "nbformat_minor": 5
}
